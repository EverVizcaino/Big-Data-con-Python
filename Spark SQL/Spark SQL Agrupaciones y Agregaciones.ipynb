{
 "cells": [
  {
   "cell_type": "code",
   "execution_count": 1,
   "metadata": {
    "collapsed": true
   },
   "outputs": [],
   "source": [
    "from pyspark.sql import SparkSession"
   ]
  },
  {
   "cell_type": "code",
   "execution_count": 2,
   "metadata": {
    "collapsed": true
   },
   "outputs": [],
   "source": [
    "spark= SparkSession.builder.appName('agrupaciones').getOrCreate()"
   ]
  },
  {
   "cell_type": "code",
   "execution_count": 3,
   "metadata": {
    "collapsed": true
   },
   "outputs": [],
   "source": [
    "df= spark.read.csv('ventas.csv', inferSchema=True, header= True)"
   ]
  },
  {
   "cell_type": "code",
   "execution_count": 4,
   "metadata": {
    "collapsed": false
   },
   "outputs": [
    {
     "name": "stdout",
     "output_type": "stream",
     "text": [
      "+-------+-------+------+\n",
      "|Empresa|Persona|Ventas|\n",
      "+-------+-------+------+\n",
      "|   GOOG| Carlos|   200|\n",
      "|   GOOG|   Juan|   120|\n",
      "|   GOOG| Felipe|   340|\n",
      "|   MSFT|   Tina|   600|\n",
      "|   MSFT| Andrea|   124|\n",
      "|   MSFT|  Carla|   243|\n",
      "|     FB|   Sara|   870|\n",
      "|     FB|Ignacio|   350|\n",
      "|   APPL| Miguel|   250|\n",
      "|   APPL|  Oscar|   130|\n",
      "|   APPL|  Jorge|   750|\n",
      "|   APPL|   Ivan|   350|\n",
      "+-------+-------+------+\n",
      "\n"
     ]
    }
   ],
   "source": [
    "df.show()"
   ]
  },
  {
   "cell_type": "code",
   "execution_count": 5,
   "metadata": {
    "collapsed": false
   },
   "outputs": [
    {
     "name": "stdout",
     "output_type": "stream",
     "text": [
      "root\n",
      " |-- Empresa: string (nullable = true)\n",
      " |-- Persona: string (nullable = true)\n",
      " |-- Ventas: integer (nullable = true)\n",
      "\n"
     ]
    }
   ],
   "source": [
    "df.printSchema()"
   ]
  },
  {
   "cell_type": "markdown",
   "metadata": {},
   "source": [
    "## groupBy()"
   ]
  },
  {
   "cell_type": "code",
   "execution_count": 6,
   "metadata": {
    "collapsed": false
   },
   "outputs": [
    {
     "name": "stdout",
     "output_type": "stream",
     "text": [
      "+-------+-----+\n",
      "|Empresa|count|\n",
      "+-------+-----+\n",
      "|   APPL|    4|\n",
      "|   GOOG|    3|\n",
      "|     FB|    2|\n",
      "|   MSFT|    3|\n",
      "+-------+-----+\n",
      "\n"
     ]
    }
   ],
   "source": [
    "#Agrupar por empresa\n",
    "df.groupBy('Empresa').count().show()"
   ]
  },
  {
   "cell_type": "markdown",
   "metadata": {
    "collapsed": true
   },
   "source": [
    "## Agregaciones"
   ]
  },
  {
   "cell_type": "markdown",
   "metadata": {},
   "source": [
    "### agg()"
   ]
  },
  {
   "cell_type": "code",
   "execution_count": 7,
   "metadata": {
    "collapsed": false
   },
   "outputs": [
    {
     "name": "stdout",
     "output_type": "stream",
     "text": [
      "+-----------+\n",
      "|sum(Ventas)|\n",
      "+-----------+\n",
      "|       4327|\n",
      "+-----------+\n",
      "\n"
     ]
    }
   ],
   "source": [
    "df.agg({'Ventas': 'sum'}).show()"
   ]
  },
  {
   "cell_type": "code",
   "execution_count": 8,
   "metadata": {
    "collapsed": false
   },
   "outputs": [
    {
     "name": "stdout",
     "output_type": "stream",
     "text": [
      "+-----------+\n",
      "|min(ventas)|\n",
      "+-----------+\n",
      "|        120|\n",
      "+-----------+\n",
      "\n"
     ]
    }
   ],
   "source": [
    "df.agg({'ventas': 'min'}).show()"
   ]
  },
  {
   "cell_type": "code",
   "execution_count": 9,
   "metadata": {
    "collapsed": false
   },
   "outputs": [
    {
     "name": "stdout",
     "output_type": "stream",
     "text": [
      "+-----------------+\n",
      "|      avg(ventas)|\n",
      "+-----------------+\n",
      "|360.5833333333333|\n",
      "+-----------------+\n",
      "\n"
     ]
    }
   ],
   "source": [
    "df.agg({'ventas': 'mean'}).show()"
   ]
  },
  {
   "cell_type": "code",
   "execution_count": 10,
   "metadata": {
    "collapsed": false
   },
   "outputs": [
    {
     "name": "stdout",
     "output_type": "stream",
     "text": [
      "+-----------+\n",
      "|max(ventas)|\n",
      "+-----------+\n",
      "|        870|\n",
      "+-----------+\n",
      "\n"
     ]
    }
   ],
   "source": [
    "df.agg({'ventas': 'max'}).show()"
   ]
  },
  {
   "cell_type": "code",
   "execution_count": 12,
   "metadata": {
    "collapsed": false
   },
   "outputs": [],
   "source": [
    "agrupado= df.groupBy('Empresa')"
   ]
  },
  {
   "cell_type": "code",
   "execution_count": 13,
   "metadata": {
    "collapsed": false
   },
   "outputs": [
    {
     "name": "stdout",
     "output_type": "stream",
     "text": [
      "+-------+-----------+\n",
      "|Empresa|max(ventas)|\n",
      "+-------+-----------+\n",
      "|   APPL|        750|\n",
      "|   GOOG|        340|\n",
      "|     FB|        870|\n",
      "|   MSFT|        600|\n",
      "+-------+-----------+\n",
      "\n"
     ]
    }
   ],
   "source": [
    "agrupado.agg({'ventas': 'max'}).show()"
   ]
  },
  {
   "cell_type": "markdown",
   "metadata": {},
   "source": [
    "## Otras Funciones"
   ]
  },
  {
   "cell_type": "code",
   "execution_count": 15,
   "metadata": {
    "collapsed": true
   },
   "outputs": [],
   "source": [
    "from pyspark.sql.functions import countDistinct, avg, stddev"
   ]
  },
  {
   "cell_type": "code",
   "execution_count": 18,
   "metadata": {
    "collapsed": false
   },
   "outputs": [
    {
     "name": "stdout",
     "output_type": "stream",
     "text": [
      "+----------------------+\n",
      "|count(DISTINCT Ventas)|\n",
      "+----------------------+\n",
      "|                    11|\n",
      "+----------------------+\n",
      "\n"
     ]
    }
   ],
   "source": [
    "#Conteo disitinto de empresa\n",
    "df.select(countDistinct('Ventas')).show()"
   ]
  },
  {
   "cell_type": "code",
   "execution_count": 19,
   "metadata": {
    "collapsed": false
   },
   "outputs": [
    {
     "name": "stdout",
     "output_type": "stream",
     "text": [
      "+-----------------------+\n",
      "|count(DISTINCT Empresa)|\n",
      "+-----------------------+\n",
      "|                      4|\n",
      "+-----------------------+\n",
      "\n"
     ]
    }
   ],
   "source": [
    "# Conteo distinto por empresa\n",
    "df.select(countDistinct('Empresa')).show()"
   ]
  },
  {
   "cell_type": "code",
   "execution_count": 20,
   "metadata": {
    "collapsed": false
   },
   "outputs": [
    {
     "name": "stdout",
     "output_type": "stream",
     "text": [
      "+----------------------+\n",
      "|Promedio de las ventas|\n",
      "+----------------------+\n",
      "|     360.5833333333333|\n",
      "+----------------------+\n",
      "\n"
     ]
    }
   ],
   "source": [
    "df.select(avg('Ventas').alias('Promedio de las ventas')).show()"
   ]
  },
  {
   "cell_type": "code",
   "execution_count": 22,
   "metadata": {
    "collapsed": false
   },
   "outputs": [
    {
     "name": "stdout",
     "output_type": "stream",
     "text": [
      "+-------------------+\n",
      "|Desviacion Estandar|\n",
      "+-------------------+\n",
      "| 250.08742410799007|\n",
      "+-------------------+\n",
      "\n"
     ]
    }
   ],
   "source": [
    "df.select(stddev('Ventas').alias('Desviacion Estandar')).show()"
   ]
  },
  {
   "cell_type": "code",
   "execution_count": 23,
   "metadata": {
    "collapsed": true
   },
   "outputs": [],
   "source": [
    "from pyspark.sql.functions import format_number #Para reducir los decimales "
   ]
  },
  {
   "cell_type": "code",
   "execution_count": 25,
   "metadata": {
    "collapsed": false
   },
   "outputs": [
    {
     "name": "stdout",
     "output_type": "stream",
     "text": [
      "+-------------------+\n",
      "|Desviacion Estandar|\n",
      "+-------------------+\n",
      "|             250.09|\n",
      "+-------------------+\n",
      "\n"
     ]
    }
   ],
   "source": [
    "# Para dejarlo en dos decimales \n",
    "ventas_stdv= df.select(format_number(stddev('Ventas'),2).alias('Desviacion Estandar'),).show()"
   ]
  },
  {
   "cell_type": "markdown",
   "metadata": {},
   "source": [
    "### Para ordenar "
   ]
  },
  {
   "cell_type": "markdown",
   "metadata": {},
   "source": [
    "## orderBy()"
   ]
  },
  {
   "cell_type": "code",
   "execution_count": 26,
   "metadata": {
    "collapsed": false
   },
   "outputs": [
    {
     "name": "stdout",
     "output_type": "stream",
     "text": [
      "+-------+-------+------+\n",
      "|Empresa|Persona|Ventas|\n",
      "+-------+-------+------+\n",
      "|   GOOG|   Juan|   120|\n",
      "|   MSFT| Andrea|   124|\n",
      "|   APPL|  Oscar|   130|\n",
      "|   GOOG| Carlos|   200|\n",
      "|   MSFT|  Carla|   243|\n",
      "|   APPL| Miguel|   250|\n",
      "|   GOOG| Felipe|   340|\n",
      "|     FB|Ignacio|   350|\n",
      "|   APPL|   Ivan|   350|\n",
      "|   MSFT|   Tina|   600|\n",
      "|   APPL|  Jorge|   750|\n",
      "|     FB|   Sara|   870|\n",
      "+-------+-------+------+\n",
      "\n"
     ]
    }
   ],
   "source": [
    "df.orderBy('Ventas').show()"
   ]
  },
  {
   "cell_type": "code",
   "execution_count": 29,
   "metadata": {
    "collapsed": false
   },
   "outputs": [
    {
     "name": "stdout",
     "output_type": "stream",
     "text": [
      "+-------+-------+------+\n",
      "|Empresa|Persona|Ventas|\n",
      "+-------+-------+------+\n",
      "|     FB|   Sara|   870|\n",
      "|   APPL|  Jorge|   750|\n",
      "|   MSFT|   Tina|   600|\n",
      "|     FB|Ignacio|   350|\n",
      "|   APPL|   Ivan|   350|\n",
      "|   GOOG| Felipe|   340|\n",
      "|   APPL| Miguel|   250|\n",
      "|   MSFT|  Carla|   243|\n",
      "|   GOOG| Carlos|   200|\n",
      "|   APPL|  Oscar|   130|\n",
      "|   MSFT| Andrea|   124|\n",
      "|   GOOG|   Juan|   120|\n",
      "+-------+-------+------+\n",
      "\n"
     ]
    }
   ],
   "source": [
    "# Para ordenar de forma descendente\n",
    "df.orderBy(df['Ventas'].desc()).show()"
   ]
  },
  {
   "cell_type": "code",
   "execution_count": null,
   "metadata": {
    "collapsed": true
   },
   "outputs": [],
   "source": []
  }
 ],
 "metadata": {
  "anaconda-cloud": {},
  "kernelspec": {
   "display_name": "Python [anaconda3]",
   "language": "python",
   "name": "Python [anaconda3]"
  },
  "language_info": {
   "codemirror_mode": {
    "name": "ipython",
    "version": 3
   },
   "file_extension": ".py",
   "mimetype": "text/x-python",
   "name": "python",
   "nbconvert_exporter": "python",
   "pygments_lexer": "ipython3",
   "version": "3.5.2"
  }
 },
 "nbformat": 4,
 "nbformat_minor": 0
}
